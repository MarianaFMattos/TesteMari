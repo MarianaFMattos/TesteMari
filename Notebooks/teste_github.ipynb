{
  "nbformat": 4,
  "nbformat_minor": 0,
  "metadata": {
    "colab": {
      "provenance": [],
      "authorship_tag": "ABX9TyNSM2tweoCp4Q09JAUDUhhH",
      "include_colab_link": true
    },
    "kernelspec": {
      "name": "python3",
      "display_name": "Python 3"
    },
    "language_info": {
      "name": "python"
    }
  },
  "cells": [
    {
      "cell_type": "markdown",
      "metadata": {
        "id": "view-in-github",
        "colab_type": "text"
      },
      "source": [
        "<a href=\"https://colab.research.google.com/github/MarianaFMattos/TesteMari/blob/main/Notebooks/teste_github.ipynb\" target=\"_parent\"><img src=\"https://colab.research.google.com/assets/colab-badge.svg\" alt=\"Open In Colab\"/></a>"
      ]
    },
    {
      "cell_type": "code",
      "execution_count": null,
      "metadata": {
        "colab": {
          "base_uri": "https://localhost:8080/"
        },
        "id": "lHn_OxIB-yD2",
        "outputId": "c28da2c6-4a43-487f-f021-1ff382ed73e3"
      },
      "outputs": [
        {
          "output_type": "stream",
          "name": "stdout",
          "text": [
            "Qual seu primeiro nome? Mariana\n",
            "Qual seu sobrenome? Mattos\n",
            "Mariana Mattos\n"
          ]
        }
      ],
      "source": [
        "def nome_completo():\n",
        " primeiro_nome = input('Qual seu primeiro nome? ')\n",
        " sobrenome = input('Qual seu sobrenome? ')\n",
        " nome_inteiro = primeiro_nome + ' ' + sobrenome\n",
        " print(nome_inteiro)\n",
        "\n",
        "nome_completo()\n"
      ]
    },
    {
      "cell_type": "code",
      "source": [
        "def velocidade(espaco, tempo):\n",
        "  v = espaco / tempo\n",
        "  print(f'Velocidade: {v} m/s')\n",
        "\n",
        "velocidade(100, 20)\n",
        "  \n",
        "  "
      ],
      "metadata": {
        "colab": {
          "base_uri": "https://localhost:8080/"
        },
        "id": "BBX8BMaH-_Xt",
        "outputId": "ab7dcc4e-dc24-4994-ce1f-3ace1600516e"
      },
      "execution_count": null,
      "outputs": [
        {
          "output_type": "stream",
          "name": "stdout",
          "text": [
            "Velocidade: 5.0 m/s\n"
          ]
        }
      ]
    },
    {
      "cell_type": "code",
      "source": [
        "# criando uma nova linha de codigo para salvar o codigo no github\n",
        "\n",
        "for i in range(1, 6):\n",
        "  km = float(input(f'Entre com a quilometragem do dia {i}: '))\n",
        " \n"
      ],
      "metadata": {
        "id": "rj8DVKySCpgO",
        "outputId": "d46a3c59-4149-44c1-89ce-802ee0ea5aa3",
        "colab": {
          "base_uri": "https://localhost:8080/"
        }
      },
      "execution_count": 14,
      "outputs": [
        {
          "name": "stdout",
          "output_type": "stream",
          "text": [
            "Entre com a quilometragem do dia 1: 5.6\n",
            "Entre com a quilometragem do dia 2: 2.8\n",
            "Entre com a quilometragem do dia 3: 4.2\n",
            "Entre com a quilometragem do dia 4: 7.8\n",
            "Entre com a quilometragem do dia 5: 2.4\n"
          ]
        }
      ]
    },
    {
      "cell_type": "code",
      "source": [],
      "metadata": {
        "id": "SHtezLUjEEgz"
      },
      "execution_count": null,
      "outputs": []
    }
  ]
}